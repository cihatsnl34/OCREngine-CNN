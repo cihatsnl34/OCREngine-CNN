{
 "cells": [
  {
   "cell_type": "code",
   "execution_count": 30,
   "id": "8929a7de",
   "metadata": {},
   "outputs": [],
   "source": [
    "# LIBRARIES\n",
    "\n",
    "from keras.models import load_model\n",
    "import cv2\n",
    "import numpy as np\n",
    "import matplotlib.pyplot as plt\n",
    "from tensorflow.keras.preprocessing import image\n",
    "import os.path\n",
    "from skimage import io\n",
    "import sys"
   ]
  },
  {
   "cell_type": "code",
   "execution_count": 31,
   "id": "b22912a2",
   "metadata": {},
   "outputs": [],
   "source": [
    "model = load_model('kerasModel')"
   ]
  },
  {
   "cell_type": "code",
   "execution_count": 32,
   "id": "150293a0",
   "metadata": {},
   "outputs": [],
   "source": [
    "model.compile(optimizer='adam',loss='binary_crossentropy', metrics=['accuracy'])"
   ]
  },
  {
   "cell_type": "code",
   "execution_count": 33,
   "id": "ba874cfc",
   "metadata": {
    "code_folding": []
   },
   "outputs": [],
   "source": [
    "class Classification:\n",
    "    \n",
    "    def _init_(self):\n",
    "        super()._init_()\n",
    "\n",
    "        self.title = \"CLASSIFICATION\"\n",
    "        self.target_size = (64,64) \n",
    "        self.classes = [\"handwriting\",\"printout\"] # buraya label (class) isimleri\n",
    "        \n",
    "        self.file_name = \"\"\n",
    "        self.model = load_model(\"kerasModel/\") # model dosyasının path adresi\n",
    "        \n",
    "\n",
    "    \n",
    "    def predictionOperation(self,new_img):\n",
    "        img = image.img_to_array(new_img)\n",
    "        img = np.expand_dims(img, axis=0)\n",
    "        prediction = self.model.predict(img)\n",
    "        prediction = np.argmax(prediction,axis=1)\n",
    "        probability=round(np.max(self.model.predict(img)*100),2)\n",
    "        print(probability)\n",
    "        print(prediction)\n",
    "        print(self.classes[prediction[0]])\n",
    "        self.createPlot(new_img,prediction,probability)\n",
    "        \n",
    "            \n",
    "    \n",
    "    # Graph of the outcome\n",
    "    def createPlot(self,new_img,prediction,probability):\n",
    "        fig ,ax= plt.subplots()\n",
    "        plt.imshow(new_img)\n",
    "        plt.title(\"PREDICTED SPECIE  =>  {} \".format(self.classes[prediction[0]]))\n",
    "        ax.set_xlabel(\"PROPABILITY => {}\".format(probability))\n",
    "        plt.show()\n",
    "        \n",
    "    def unknownPlot(self,img):\n",
    "        plt.imshow(img)\n",
    "        plt.title(\"UNKNOWN\")\n",
    "        plt.axis(\"off\")\n",
    "          \n",
    "    def resizedOperation(self,new_img):\n",
    "        new_img = cv2.resize(new_img,(64,64)) # Image Processing (Image Resize Operation)\n",
    "        return new_img\n",
    "        \n",
    "    # Image Processing (BGR to RGB CONVERSION OPERATION)\n",
    "    def convertBGR_TO_RGB(self,new_img):\n",
    "        new_img = cv2.cvtColor(new_img,cv2.COLOR_BGR2RGB) \n",
    "        return new_img\n",
    "    \n",
    "    \n",
    "    \n",
    "    def MainOperation(self,PATH):\n",
    "        new_img = cv2.imread(PATH)\n",
    "        new_img = self.convertBGR_TO_RGB(new_img)\n",
    "        img_size = new_img.shape[:2]\n",
    "        \n",
    "        if img_size != self.target_size:\n",
    "            new_img = self.resizedOperation(new_img)\n",
    "            self.predictionOperation(new_img)\n",
    "        \n",
    "        else:\n",
    "            self.predictionOperation(new_img)"
   ]
  },
  {
   "cell_type": "code",
   "execution_count": 40,
   "id": "43c0c8b4",
   "metadata": {
    "scrolled": true
   },
   "outputs": [
    {
     "ename": "AttributeError",
     "evalue": "'Classification' object has no attribute 'target_size'",
     "output_type": "error",
     "traceback": [
      "\u001b[1;31m---------------------------------------------------------------------------\u001b[0m",
      "\u001b[1;31mAttributeError\u001b[0m                            Traceback (most recent call last)",
      "\u001b[1;32m<ipython-input-40-62c2feb8bff8>\u001b[0m in \u001b[0;36m<module>\u001b[1;34m\u001b[0m\n\u001b[0;32m      1\u001b[0m \u001b[0mai\u001b[0m \u001b[1;33m=\u001b[0m \u001b[0mClassification\u001b[0m\u001b[1;33m(\u001b[0m\u001b[1;33m)\u001b[0m\u001b[1;33m\u001b[0m\u001b[1;33m\u001b[0m\u001b[0m\n\u001b[1;32m----> 2\u001b[1;33m \u001b[0mai\u001b[0m\u001b[1;33m.\u001b[0m\u001b[0mMainOperation\u001b[0m\u001b[1;33m(\u001b[0m\u001b[1;34m\"content/sado.jpg\"\u001b[0m\u001b[1;33m)\u001b[0m\u001b[1;33m\u001b[0m\u001b[1;33m\u001b[0m\u001b[0m\n\u001b[0m",
      "\u001b[1;32m<ipython-input-33-5f46d7b3f6bf>\u001b[0m in \u001b[0;36mMainOperation\u001b[1;34m(self, PATH)\u001b[0m\n\u001b[0;32m     55\u001b[0m         \u001b[0mimg_size\u001b[0m \u001b[1;33m=\u001b[0m \u001b[0mnew_img\u001b[0m\u001b[1;33m.\u001b[0m\u001b[0mshape\u001b[0m\u001b[1;33m[\u001b[0m\u001b[1;33m:\u001b[0m\u001b[1;36m2\u001b[0m\u001b[1;33m]\u001b[0m\u001b[1;33m\u001b[0m\u001b[1;33m\u001b[0m\u001b[0m\n\u001b[0;32m     56\u001b[0m \u001b[1;33m\u001b[0m\u001b[0m\n\u001b[1;32m---> 57\u001b[1;33m         \u001b[1;32mif\u001b[0m \u001b[0mimg_size\u001b[0m \u001b[1;33m!=\u001b[0m \u001b[0mself\u001b[0m\u001b[1;33m.\u001b[0m\u001b[0mtarget_size\u001b[0m\u001b[1;33m:\u001b[0m\u001b[1;33m\u001b[0m\u001b[1;33m\u001b[0m\u001b[0m\n\u001b[0m\u001b[0;32m     58\u001b[0m             \u001b[0mnew_img\u001b[0m \u001b[1;33m=\u001b[0m \u001b[0mself\u001b[0m\u001b[1;33m.\u001b[0m\u001b[0mresizedOperation\u001b[0m\u001b[1;33m(\u001b[0m\u001b[0mnew_img\u001b[0m\u001b[1;33m)\u001b[0m\u001b[1;33m\u001b[0m\u001b[1;33m\u001b[0m\u001b[0m\n\u001b[0;32m     59\u001b[0m             \u001b[0mself\u001b[0m\u001b[1;33m.\u001b[0m\u001b[0mpredictionOperation\u001b[0m\u001b[1;33m(\u001b[0m\u001b[0mnew_img\u001b[0m\u001b[1;33m)\u001b[0m\u001b[1;33m\u001b[0m\u001b[1;33m\u001b[0m\u001b[0m\n",
      "\u001b[1;31mAttributeError\u001b[0m: 'Classification' object has no attribute 'target_size'"
     ]
    }
   ],
   "source": [
    "ai = Classification()\n",
    "ai.MainOperation(\"content/sado.jpg\")"
   ]
  },
  {
   "cell_type": "code",
   "execution_count": null,
   "id": "0cd449b8",
   "metadata": {},
   "outputs": [],
   "source": []
  }
 ],
 "metadata": {
  "hide_input": false,
  "kernelspec": {
   "display_name": "Python 3",
   "language": "python",
   "name": "python3"
  },
  "language_info": {
   "codemirror_mode": {
    "name": "ipython",
    "version": 3
   },
   "file_extension": ".py",
   "mimetype": "text/x-python",
   "name": "python",
   "nbconvert_exporter": "python",
   "pygments_lexer": "ipython3",
   "version": "3.8.8"
  }
 },
 "nbformat": 4,
 "nbformat_minor": 5
}
